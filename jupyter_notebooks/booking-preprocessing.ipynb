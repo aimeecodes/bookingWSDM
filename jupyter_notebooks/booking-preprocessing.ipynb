{
 "cells": [
  {
   "cell_type": "code",
   "execution_count": 1,
   "metadata": {},
   "outputs": [],
   "source": [
    "import pandas as pd\n",
    "import matplotlib.pyplot as plt\n",
    "import numpy as np\n",
    "\n",
    "import datetime as dt\n",
    "import time"
   ]
  },
  {
   "cell_type": "markdown",
   "metadata": {},
   "source": [
    "After imports, read in the dataset<br>(note that we have both train_set AND test_set now... should think about including the test_set in our training data, so it has more results to train on?)"
   ]
  },
  {
   "cell_type": "code",
   "execution_count": 3,
   "metadata": {},
   "outputs": [],
   "source": [
    "# read in the datasets\n",
    "train_data_path = '../csv_files/booking_train_set.csv'\n",
    "test_data_path = '../csv_files/booking_test_set.csv'\n",
    "\n",
    "# import train_data set into pandas frame\n",
    "train_data = pd.read_csv(train_data_path)\n",
    "test_data = pd.read_csv(test_data_path)"
   ]
  },
  {
   "cell_type": "markdown",
   "metadata": {},
   "source": [
    "### adding necessary columns to the datasets ###"
   ]
  },
  {
   "cell_type": "code",
   "execution_count": 5,
   "metadata": {},
   "outputs": [],
   "source": [
    "# cast dates to datetime format\n",
    "for df in [train_data, test_data]:\n",
    "    df['checkin'] = pd.to_datetime(df['checkin'])\n",
    "    df['checkout'] = pd.to_datetime(df['checkout'])"
   ]
  },
  {
   "cell_type": "code",
   "execution_count": 6,
   "metadata": {},
   "outputs": [],
   "source": [
    "# create a column that holds the length of each 'leg' of the trip\n",
    "for df in [train_data, test_data]:\n",
    "    df['lengthofleg'] = (df['checkout'] - df['checkin']).dt.days"
   ]
  },
  {
   "cell_type": "markdown",
   "metadata": {},
   "source": [
    "### stripping out target variable Y from train_data and creating training data w/o target variable ###"
   ]
  },
  {
   "cell_type": "code",
   "execution_count": 10,
   "metadata": {},
   "outputs": [],
   "source": [
    "# series that holds a list of cities visited on each trip\n",
    "orderofcitiesvisitedpertrip = train_data.groupby('utrip_id')['city_id'].agg(lambda x: list(x))"
   ]
  },
  {
   "cell_type": "code",
   "execution_count": 12,
   "metadata": {},
   "outputs": [],
   "source": [
    "# pull out the last city of each utrip_id into a series\n",
    "lastcityoftripseries = orderofcitiesvisitedpertrip.apply(lambda x: x[-1])\n",
    "utrip_ids = lastcityoftripseries.index.tolist()\n",
    "lastcityoftrip = lastcityoftripseries.tolist()"
   ]
  },
  {
   "cell_type": "code",
   "execution_count": 17,
   "metadata": {},
   "outputs": [],
   "source": [
    "# store our target in train_Y which tells us our target variable for each trip \n",
    "Y_train = list(zip(utrip_ids, lastcityoftrip))"
   ]
  },
  {
   "cell_type": "code",
   "execution_count": 18,
   "metadata": {},
   "outputs": [],
   "source": [
    "# store our training data in train_X which will holds all of the trips from each trip except for the last stop\n",
    "X_train = train_data.drop(train_data.groupby('utrip_id').tail(1).index, axis=0)"
   ]
  },
  {
   "cell_type": "markdown",
   "metadata": {},
   "source": [
    "#### Goals for tonight's meeting ####\n",
    "<ul>\n",
    "    <li> drop unneccessary columns from X_train</li>\n",
    "    <li> one-hot-encode the following columns:</li>\n",
    "    <li> week_of_year (1 of 52)</li>\n",
    "    <li> days_of_week (1 of 7)</li>\n",
    "    <li> weekday_weekend (this might be more helpful as a metric rather than days of the week)</li>\n",
    "    <li> device_class (1 of 3)</li>\n",
    "    <li> booker_country (1 of 5)</li>\n",
    "    <li> hotel_country (1 of 195)</li>\n",
    "    <li> city_id (1 of 39901)</li>\n",
    "    <li> length_of_leg (normalized)</li>\n",
    "</ul>"
   ]
  },
  {
   "cell_type": "code",
   "execution_count": null,
   "metadata": {},
   "outputs": [],
   "source": []
  }
 ],
 "metadata": {
  "kernelspec": {
   "display_name": "Python 3",
   "language": "python",
   "name": "python3"
  },
  "language_info": {
   "codemirror_mode": {
    "name": "ipython",
    "version": 3
   },
   "file_extension": ".py",
   "mimetype": "text/x-python",
   "name": "python",
   "nbconvert_exporter": "python",
   "pygments_lexer": "ipython3",
   "version": "3.8.5"
  }
 },
 "nbformat": 4,
 "nbformat_minor": 4
}
