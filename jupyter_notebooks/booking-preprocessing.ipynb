{
 "cells": [
  {
   "cell_type": "code",
   "execution_count": 1,
   "metadata": {},
   "outputs": [],
   "source": [
    "import pandas as pd\n",
    "import matplotlib.pyplot as plt\n",
    "import numpy as np\n",
    "\n",
    "import datetime as dt\n",
    "import time"
   ]
  },
  {
   "cell_type": "markdown",
   "metadata": {},
   "source": [
    "After imports, read in the dataset<br>(note that we have both train_set AND test_set now... should think about including the test_set in our training data, so it has more results to train on?)"
   ]
  },
  {
   "cell_type": "code",
   "execution_count": 2,
   "metadata": {},
   "outputs": [],
   "source": [
    "# read in the datasets\n",
    "train_data_path = '../csv_files/booking_train_set.csv'\n",
    "test_data_path = '../csv_files/booking_test_set.csv'\n",
    "\n",
    "# import train_data set into pandas frame\n",
    "train_data = pd.read_csv(train_data_path)\n",
    "test_data = pd.read_csv(test_data_path)"
   ]
  },
  {
   "cell_type": "markdown",
   "metadata": {},
   "source": [
    "### adding necessary columns to the datasets ###"
   ]
  },
  {
   "cell_type": "code",
   "execution_count": 3,
   "metadata": {},
   "outputs": [],
   "source": [
    "# cast dates to datetime format\n",
    "for df in [train_data, test_data]:\n",
    "    df['checkin'] = pd.to_datetime(df['checkin'])\n",
    "    df['checkout'] = pd.to_datetime(df['checkout'])"
   ]
  },
  {
   "cell_type": "code",
   "execution_count": 4,
   "metadata": {},
   "outputs": [],
   "source": [
    "# create a column that holds the length of each 'leg' of the trip\n",
    "for df in [train_data, test_data]:\n",
    "    df['length_of_leg'] = (df['checkout'] - df['checkin']).dt.days"
   ]
  },
  {
   "cell_type": "markdown",
   "metadata": {},
   "source": [
    "### stripping out target variable Y from train_data and creating training data w/o target variable ###"
   ]
  },
  {
   "cell_type": "code",
   "execution_count": 5,
   "metadata": {},
   "outputs": [],
   "source": [
    "# series that holds a list of cities visited on each trip\n",
    "orderofcitiesvisitedpertrip = train_data.groupby('utrip_id')['city_id'].agg(lambda x: list(x))"
   ]
  },
  {
   "cell_type": "code",
   "execution_count": 6,
   "metadata": {},
   "outputs": [],
   "source": [
    "# pull out the last city of each utrip_id into a series\n",
    "lastcityoftripseries = orderofcitiesvisitedpertrip.apply(lambda x: x[-1])\n",
    "utrip_ids = lastcityoftripseries.index.tolist()\n",
    "lastcityoftrip = lastcityoftripseries.tolist()"
   ]
  },
  {
   "cell_type": "code",
   "execution_count": 7,
   "metadata": {},
   "outputs": [],
   "source": [
    "# store our target in train_Y which tells us our target variable for each trip \n",
    "Y_train = list(zip(utrip_ids, lastcityoftrip))"
   ]
  },
  {
   "cell_type": "code",
   "execution_count": 8,
   "metadata": {},
   "outputs": [],
   "source": [
    "# store our training data in train_X which will holds all of the trips from each trip except for the last stop\n",
    "X_train = train_data.drop(train_data.groupby('utrip_id').tail(1).index, axis=0)"
   ]
  },
  {
   "cell_type": "markdown",
   "metadata": {},
   "source": [
    "#### Goals for tonight's meeting ####\n",
    "<ul>\n",
    "    <li> drop unneccessary columns from X_train</li>\n",
    "    <li> one-hot-encode the following columns:</li>\n",
    "    <li> week_of_year (1 of 52)</li>\n",
    "    <li> days_of_week (1 of 7)</li>\n",
    "    <li> weekday_weekend (this might be more helpful as a metric rather than days of the week)</li>\n",
    "    <li> device_class (1 of 3)</li>\n",
    "    <li> booker_country (1 of 5)</li>\n",
    "    <li> hotel_country (1 of 195)</li>\n",
    "    <li> city_id (1 of 39901)</li>\n",
    "    <li> length_of_leg (normalized)</li>\n",
    "</ul>"
   ]
  },
  {
   "cell_type": "code",
   "execution_count": 9,
   "metadata": {},
   "outputs": [
    {
     "data": {
      "text/html": [
       "<div>\n",
       "<style scoped>\n",
       "    .dataframe tbody tr th:only-of-type {\n",
       "        vertical-align: middle;\n",
       "    }\n",
       "\n",
       "    .dataframe tbody tr th {\n",
       "        vertical-align: top;\n",
       "    }\n",
       "\n",
       "    .dataframe thead th {\n",
       "        text-align: right;\n",
       "    }\n",
       "</style>\n",
       "<table border=\"1\" class=\"dataframe\">\n",
       "  <thead>\n",
       "    <tr style=\"text-align: right;\">\n",
       "      <th></th>\n",
       "      <th>Unnamed: 0</th>\n",
       "      <th>user_id</th>\n",
       "      <th>checkin</th>\n",
       "      <th>checkout</th>\n",
       "      <th>city_id</th>\n",
       "      <th>device_class</th>\n",
       "      <th>affiliate_id</th>\n",
       "      <th>booker_country</th>\n",
       "      <th>hotel_country</th>\n",
       "      <th>utrip_id</th>\n",
       "      <th>length_of_leg</th>\n",
       "    </tr>\n",
       "  </thead>\n",
       "  <tbody>\n",
       "    <tr>\n",
       "      <th>0</th>\n",
       "      <td>0</td>\n",
       "      <td>1006220</td>\n",
       "      <td>2016-04-09</td>\n",
       "      <td>2016-04-11</td>\n",
       "      <td>31114</td>\n",
       "      <td>desktop</td>\n",
       "      <td>384</td>\n",
       "      <td>Gondal</td>\n",
       "      <td>Gondal</td>\n",
       "      <td>1006220_1</td>\n",
       "      <td>2</td>\n",
       "    </tr>\n",
       "    <tr>\n",
       "      <th>1</th>\n",
       "      <td>1</td>\n",
       "      <td>1006220</td>\n",
       "      <td>2016-04-11</td>\n",
       "      <td>2016-04-12</td>\n",
       "      <td>39641</td>\n",
       "      <td>desktop</td>\n",
       "      <td>384</td>\n",
       "      <td>Gondal</td>\n",
       "      <td>Gondal</td>\n",
       "      <td>1006220_1</td>\n",
       "      <td>1</td>\n",
       "    </tr>\n",
       "    <tr>\n",
       "      <th>2</th>\n",
       "      <td>2</td>\n",
       "      <td>1006220</td>\n",
       "      <td>2016-04-12</td>\n",
       "      <td>2016-04-16</td>\n",
       "      <td>20232</td>\n",
       "      <td>desktop</td>\n",
       "      <td>384</td>\n",
       "      <td>Gondal</td>\n",
       "      <td>Glubbdubdrib</td>\n",
       "      <td>1006220_1</td>\n",
       "      <td>4</td>\n",
       "    </tr>\n",
       "    <tr>\n",
       "      <th>4</th>\n",
       "      <td>4</td>\n",
       "      <td>1010293</td>\n",
       "      <td>2016-07-09</td>\n",
       "      <td>2016-07-10</td>\n",
       "      <td>5325</td>\n",
       "      <td>mobile</td>\n",
       "      <td>359</td>\n",
       "      <td>The Devilfire Empire</td>\n",
       "      <td>Cobra Island</td>\n",
       "      <td>1010293_1</td>\n",
       "      <td>1</td>\n",
       "    </tr>\n",
       "    <tr>\n",
       "      <th>5</th>\n",
       "      <td>5</td>\n",
       "      <td>1010293</td>\n",
       "      <td>2016-07-10</td>\n",
       "      <td>2016-07-11</td>\n",
       "      <td>55</td>\n",
       "      <td>mobile</td>\n",
       "      <td>359</td>\n",
       "      <td>The Devilfire Empire</td>\n",
       "      <td>Cobra Island</td>\n",
       "      <td>1010293_1</td>\n",
       "      <td>1</td>\n",
       "    </tr>\n",
       "    <tr>\n",
       "      <th>6</th>\n",
       "      <td>6</td>\n",
       "      <td>1010293</td>\n",
       "      <td>2016-07-12</td>\n",
       "      <td>2016-07-13</td>\n",
       "      <td>23921</td>\n",
       "      <td>mobile</td>\n",
       "      <td>359</td>\n",
       "      <td>The Devilfire Empire</td>\n",
       "      <td>Cobra Island</td>\n",
       "      <td>1010293_1</td>\n",
       "      <td>1</td>\n",
       "    </tr>\n",
       "    <tr>\n",
       "      <th>7</th>\n",
       "      <td>7</td>\n",
       "      <td>1010293</td>\n",
       "      <td>2016-07-13</td>\n",
       "      <td>2016-07-15</td>\n",
       "      <td>65322</td>\n",
       "      <td>desktop</td>\n",
       "      <td>9924</td>\n",
       "      <td>The Devilfire Empire</td>\n",
       "      <td>Cobra Island</td>\n",
       "      <td>1010293_1</td>\n",
       "      <td>2</td>\n",
       "    </tr>\n",
       "    <tr>\n",
       "      <th>8</th>\n",
       "      <td>8</td>\n",
       "      <td>1010293</td>\n",
       "      <td>2016-07-15</td>\n",
       "      <td>2016-07-16</td>\n",
       "      <td>23921</td>\n",
       "      <td>desktop</td>\n",
       "      <td>9924</td>\n",
       "      <td>The Devilfire Empire</td>\n",
       "      <td>Cobra Island</td>\n",
       "      <td>1010293_1</td>\n",
       "      <td>1</td>\n",
       "    </tr>\n",
       "    <tr>\n",
       "      <th>10</th>\n",
       "      <td>10</td>\n",
       "      <td>1012680</td>\n",
       "      <td>2016-10-23</td>\n",
       "      <td>2016-10-25</td>\n",
       "      <td>37709</td>\n",
       "      <td>desktop</td>\n",
       "      <td>384</td>\n",
       "      <td>Gondal</td>\n",
       "      <td>Yerba</td>\n",
       "      <td>1012680_1</td>\n",
       "      <td>2</td>\n",
       "    </tr>\n",
       "    <tr>\n",
       "      <th>11</th>\n",
       "      <td>11</td>\n",
       "      <td>1012680</td>\n",
       "      <td>2016-10-25</td>\n",
       "      <td>2016-10-27</td>\n",
       "      <td>11837</td>\n",
       "      <td>desktop</td>\n",
       "      <td>384</td>\n",
       "      <td>Gondal</td>\n",
       "      <td>Panem</td>\n",
       "      <td>1012680_1</td>\n",
       "      <td>2</td>\n",
       "    </tr>\n",
       "  </tbody>\n",
       "</table>\n",
       "</div>"
      ],
      "text/plain": [
       "    Unnamed: 0  user_id    checkin   checkout  city_id device_class  \\\n",
       "0            0  1006220 2016-04-09 2016-04-11    31114      desktop   \n",
       "1            1  1006220 2016-04-11 2016-04-12    39641      desktop   \n",
       "2            2  1006220 2016-04-12 2016-04-16    20232      desktop   \n",
       "4            4  1010293 2016-07-09 2016-07-10     5325       mobile   \n",
       "5            5  1010293 2016-07-10 2016-07-11       55       mobile   \n",
       "6            6  1010293 2016-07-12 2016-07-13    23921       mobile   \n",
       "7            7  1010293 2016-07-13 2016-07-15    65322      desktop   \n",
       "8            8  1010293 2016-07-15 2016-07-16    23921      desktop   \n",
       "10          10  1012680 2016-10-23 2016-10-25    37709      desktop   \n",
       "11          11  1012680 2016-10-25 2016-10-27    11837      desktop   \n",
       "\n",
       "    affiliate_id        booker_country hotel_country   utrip_id  length_of_leg  \n",
       "0            384                Gondal        Gondal  1006220_1              2  \n",
       "1            384                Gondal        Gondal  1006220_1              1  \n",
       "2            384                Gondal  Glubbdubdrib  1006220_1              4  \n",
       "4            359  The Devilfire Empire  Cobra Island  1010293_1              1  \n",
       "5            359  The Devilfire Empire  Cobra Island  1010293_1              1  \n",
       "6            359  The Devilfire Empire  Cobra Island  1010293_1              1  \n",
       "7           9924  The Devilfire Empire  Cobra Island  1010293_1              2  \n",
       "8           9924  The Devilfire Empire  Cobra Island  1010293_1              1  \n",
       "10           384                Gondal         Yerba  1012680_1              2  \n",
       "11           384                Gondal         Panem  1012680_1              2  "
      ]
     },
     "execution_count": 9,
     "metadata": {},
     "output_type": "execute_result"
    }
   ],
   "source": [
    "X_train.head(10)"
   ]
  },
  {
   "cell_type": "code",
   "execution_count": 10,
   "metadata": {},
   "outputs": [
    {
     "data": {
      "text/plain": [
       "0          14\n",
       "1          15\n",
       "2          15\n",
       "4          27\n",
       "5          27\n",
       "           ..\n",
       "1166828    36\n",
       "1166829    36\n",
       "1166831    50\n",
       "1166832    50\n",
       "1166833    51\n",
       "Name: week, Length: 949149, dtype: UInt32"
      ]
     },
     "execution_count": 10,
     "metadata": {},
     "output_type": "execute_result"
    }
   ],
   "source": [
    "# get the week the stay began\n",
    "X_train['checkin'].dt.isocalendar().week"
   ]
  },
  {
   "cell_type": "code",
   "execution_count": null,
   "metadata": {},
   "outputs": [],
   "source": []
  }
 ],
 "metadata": {
  "kernelspec": {
   "display_name": "Python 3",
   "language": "python",
   "name": "python3"
  },
  "language_info": {
   "codemirror_mode": {
    "name": "ipython",
    "version": 3
   },
   "file_extension": ".py",
   "mimetype": "text/x-python",
   "name": "python",
   "nbconvert_exporter": "python",
   "pygments_lexer": "ipython3",
   "version": "3.8.5"
  }
 },
 "nbformat": 4,
 "nbformat_minor": 4
}
