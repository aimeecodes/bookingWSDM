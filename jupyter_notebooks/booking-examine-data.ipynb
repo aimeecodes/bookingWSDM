{
 "cells": [
  {
   "cell_type": "code",
   "execution_count": 1,
   "metadata": {},
   "outputs": [],
   "source": [
    "import pandas as pd\n",
    "import matplotlib.pyplot as plt\n",
    "import numpy as np\n",
    "\n",
    "import datetime as dt\n",
    "import time"
   ]
  },
  {
   "cell_type": "markdown",
   "metadata": {},
   "source": [
    "After imports, read in the dataset (currently only train_data)"
   ]
  },
  {
   "cell_type": "code",
   "execution_count": 2,
   "metadata": {},
   "outputs": [],
   "source": [
    "# read in the datasets\n",
    "train_data_path = '../csv_files/booking_train_set.csv'\n",
    "# import train_data set into pandas frame\n",
    "train_data = pd.read_csv(train_data_path)"
   ]
  },
  {
   "cell_type": "code",
   "execution_count": 3,
   "metadata": {},
   "outputs": [
    {
     "data": {
      "text/html": [
       "<div>\n",
       "<style scoped>\n",
       "    .dataframe tbody tr th:only-of-type {\n",
       "        vertical-align: middle;\n",
       "    }\n",
       "\n",
       "    .dataframe tbody tr th {\n",
       "        vertical-align: top;\n",
       "    }\n",
       "\n",
       "    .dataframe thead th {\n",
       "        text-align: right;\n",
       "    }\n",
       "</style>\n",
       "<table border=\"1\" class=\"dataframe\">\n",
       "  <thead>\n",
       "    <tr style=\"text-align: right;\">\n",
       "      <th></th>\n",
       "      <th>Unnamed: 0</th>\n",
       "      <th>user_id</th>\n",
       "      <th>checkin</th>\n",
       "      <th>checkout</th>\n",
       "      <th>city_id</th>\n",
       "      <th>device_class</th>\n",
       "      <th>affiliate_id</th>\n",
       "      <th>booker_country</th>\n",
       "      <th>hotel_country</th>\n",
       "      <th>utrip_id</th>\n",
       "    </tr>\n",
       "  </thead>\n",
       "  <tbody>\n",
       "    <tr>\n",
       "      <th>0</th>\n",
       "      <td>0</td>\n",
       "      <td>1006220</td>\n",
       "      <td>2016-04-09</td>\n",
       "      <td>2016-04-11</td>\n",
       "      <td>31114</td>\n",
       "      <td>desktop</td>\n",
       "      <td>384</td>\n",
       "      <td>Gondal</td>\n",
       "      <td>Gondal</td>\n",
       "      <td>1006220_1</td>\n",
       "    </tr>\n",
       "    <tr>\n",
       "      <th>1</th>\n",
       "      <td>1</td>\n",
       "      <td>1006220</td>\n",
       "      <td>2016-04-11</td>\n",
       "      <td>2016-04-12</td>\n",
       "      <td>39641</td>\n",
       "      <td>desktop</td>\n",
       "      <td>384</td>\n",
       "      <td>Gondal</td>\n",
       "      <td>Gondal</td>\n",
       "      <td>1006220_1</td>\n",
       "    </tr>\n",
       "    <tr>\n",
       "      <th>2</th>\n",
       "      <td>2</td>\n",
       "      <td>1006220</td>\n",
       "      <td>2016-04-12</td>\n",
       "      <td>2016-04-16</td>\n",
       "      <td>20232</td>\n",
       "      <td>desktop</td>\n",
       "      <td>384</td>\n",
       "      <td>Gondal</td>\n",
       "      <td>Glubbdubdrib</td>\n",
       "      <td>1006220_1</td>\n",
       "    </tr>\n",
       "    <tr>\n",
       "      <th>3</th>\n",
       "      <td>3</td>\n",
       "      <td>1006220</td>\n",
       "      <td>2016-04-16</td>\n",
       "      <td>2016-04-17</td>\n",
       "      <td>24144</td>\n",
       "      <td>desktop</td>\n",
       "      <td>384</td>\n",
       "      <td>Gondal</td>\n",
       "      <td>Gondal</td>\n",
       "      <td>1006220_1</td>\n",
       "    </tr>\n",
       "    <tr>\n",
       "      <th>4</th>\n",
       "      <td>4</td>\n",
       "      <td>1010293</td>\n",
       "      <td>2016-07-09</td>\n",
       "      <td>2016-07-10</td>\n",
       "      <td>5325</td>\n",
       "      <td>mobile</td>\n",
       "      <td>359</td>\n",
       "      <td>The Devilfire Empire</td>\n",
       "      <td>Cobra Island</td>\n",
       "      <td>1010293_1</td>\n",
       "    </tr>\n",
       "    <tr>\n",
       "      <th>5</th>\n",
       "      <td>5</td>\n",
       "      <td>1010293</td>\n",
       "      <td>2016-07-10</td>\n",
       "      <td>2016-07-11</td>\n",
       "      <td>55</td>\n",
       "      <td>mobile</td>\n",
       "      <td>359</td>\n",
       "      <td>The Devilfire Empire</td>\n",
       "      <td>Cobra Island</td>\n",
       "      <td>1010293_1</td>\n",
       "    </tr>\n",
       "    <tr>\n",
       "      <th>6</th>\n",
       "      <td>6</td>\n",
       "      <td>1010293</td>\n",
       "      <td>2016-07-12</td>\n",
       "      <td>2016-07-13</td>\n",
       "      <td>23921</td>\n",
       "      <td>mobile</td>\n",
       "      <td>359</td>\n",
       "      <td>The Devilfire Empire</td>\n",
       "      <td>Cobra Island</td>\n",
       "      <td>1010293_1</td>\n",
       "    </tr>\n",
       "    <tr>\n",
       "      <th>7</th>\n",
       "      <td>7</td>\n",
       "      <td>1010293</td>\n",
       "      <td>2016-07-13</td>\n",
       "      <td>2016-07-15</td>\n",
       "      <td>65322</td>\n",
       "      <td>desktop</td>\n",
       "      <td>9924</td>\n",
       "      <td>The Devilfire Empire</td>\n",
       "      <td>Cobra Island</td>\n",
       "      <td>1010293_1</td>\n",
       "    </tr>\n",
       "    <tr>\n",
       "      <th>8</th>\n",
       "      <td>8</td>\n",
       "      <td>1010293</td>\n",
       "      <td>2016-07-15</td>\n",
       "      <td>2016-07-16</td>\n",
       "      <td>23921</td>\n",
       "      <td>desktop</td>\n",
       "      <td>9924</td>\n",
       "      <td>The Devilfire Empire</td>\n",
       "      <td>Cobra Island</td>\n",
       "      <td>1010293_1</td>\n",
       "    </tr>\n",
       "    <tr>\n",
       "      <th>9</th>\n",
       "      <td>9</td>\n",
       "      <td>1010293</td>\n",
       "      <td>2016-07-16</td>\n",
       "      <td>2016-07-17</td>\n",
       "      <td>20545</td>\n",
       "      <td>desktop</td>\n",
       "      <td>10573</td>\n",
       "      <td>The Devilfire Empire</td>\n",
       "      <td>Cobra Island</td>\n",
       "      <td>1010293_1</td>\n",
       "    </tr>\n",
       "  </tbody>\n",
       "</table>\n",
       "</div>"
      ],
      "text/plain": [
       "   Unnamed: 0  user_id     checkin    checkout  city_id device_class  \\\n",
       "0           0  1006220  2016-04-09  2016-04-11    31114      desktop   \n",
       "1           1  1006220  2016-04-11  2016-04-12    39641      desktop   \n",
       "2           2  1006220  2016-04-12  2016-04-16    20232      desktop   \n",
       "3           3  1006220  2016-04-16  2016-04-17    24144      desktop   \n",
       "4           4  1010293  2016-07-09  2016-07-10     5325       mobile   \n",
       "5           5  1010293  2016-07-10  2016-07-11       55       mobile   \n",
       "6           6  1010293  2016-07-12  2016-07-13    23921       mobile   \n",
       "7           7  1010293  2016-07-13  2016-07-15    65322      desktop   \n",
       "8           8  1010293  2016-07-15  2016-07-16    23921      desktop   \n",
       "9           9  1010293  2016-07-16  2016-07-17    20545      desktop   \n",
       "\n",
       "   affiliate_id        booker_country hotel_country   utrip_id  \n",
       "0           384                Gondal        Gondal  1006220_1  \n",
       "1           384                Gondal        Gondal  1006220_1  \n",
       "2           384                Gondal  Glubbdubdrib  1006220_1  \n",
       "3           384                Gondal        Gondal  1006220_1  \n",
       "4           359  The Devilfire Empire  Cobra Island  1010293_1  \n",
       "5           359  The Devilfire Empire  Cobra Island  1010293_1  \n",
       "6           359  The Devilfire Empire  Cobra Island  1010293_1  \n",
       "7          9924  The Devilfire Empire  Cobra Island  1010293_1  \n",
       "8          9924  The Devilfire Empire  Cobra Island  1010293_1  \n",
       "9         10573  The Devilfire Empire  Cobra Island  1010293_1  "
      ]
     },
     "execution_count": 3,
     "metadata": {},
     "output_type": "execute_result"
    }
   ],
   "source": [
    "train_data.head(10)"
   ]
  },
  {
   "cell_type": "markdown",
   "metadata": {},
   "source": [
    "Cast checkin and checkout in datetime format"
   ]
  },
  {
   "cell_type": "code",
   "execution_count": 4,
   "metadata": {},
   "outputs": [],
   "source": [
    "train_data['checkin'] = pd.to_datetime(train_data['checkin'])\n",
    "train_data['checkout'] = pd.to_datetime(train_data['checkout'])"
   ]
  },
  {
   "cell_type": "markdown",
   "metadata": {},
   "source": [
    "Create a variable that holds the length of each 'leg' of the trip"
   ]
  },
  {
   "cell_type": "code",
   "execution_count": 5,
   "metadata": {},
   "outputs": [],
   "source": [
    "train_data['lengthofleg'] = (train_data['checkout'] - train_data['checkin']).dt.days"
   ]
  },
  {
   "cell_type": "code",
   "execution_count": 6,
   "metadata": {},
   "outputs": [
    {
     "data": {
      "text/plain": [
       "0    2\n",
       "1    1\n",
       "2    4\n",
       "3    1\n",
       "4    1\n",
       "5    1\n",
       "6    1\n",
       "7    2\n",
       "8    1\n",
       "9    1\n",
       "Name: lengthofleg, dtype: int64"
      ]
     },
     "execution_count": 6,
     "metadata": {},
     "output_type": "execute_result"
    }
   ],
   "source": [
    "train_data['lengthofleg'].head(10)"
   ]
  },
  {
   "cell_type": "markdown",
   "metadata": {},
   "source": [
    "From here, creating series that hold particular pieces of information (descriptive names)"
   ]
  },
  {
   "cell_type": "code",
   "execution_count": 7,
   "metadata": {},
   "outputs": [
    {
     "name": "stdout",
     "output_type": "stream",
     "text": [
      "utrip_id\n",
      "1000027_1     8\n",
      "1000033_1    10\n",
      "1000045_1    11\n",
      "1000083_1     5\n",
      "100008_1      9\n",
      "Name: lengthofleg, dtype: int64\n"
     ]
    }
   ],
   "source": [
    "# series that holds only total length of trip data for each utrip_id\n",
    "lengthofstay = train_data.groupby('utrip_id')['lengthofleg'].sum()\n",
    "print(lengthofstay.head(5))"
   ]
  },
  {
   "cell_type": "code",
   "execution_count": 8,
   "metadata": {},
   "outputs": [],
   "source": [
    "# series that holds a list of cities visited on each trip\n",
    "citiesvisited = train_data.groupby('utrip_id')['city_id'].agg(lambda x: list(set(x)))"
   ]
  },
  {
   "cell_type": "code",
   "execution_count": 9,
   "metadata": {},
   "outputs": [
    {
     "name": "stdout",
     "output_type": "stream",
     "text": [
      "utrip_id\n",
      "1000027_1                          [15626, 30628, 60902, 8183]\n",
      "1000033_1                         [21328, 52089, 27485, 38677]\n",
      "1000045_1     [58178, 9608, 31817, 36170, 64876, 55128, 36063]\n",
      "1000083_1                         [35160, 14705, 55990, 36063]\n",
      "100008_1                     [12096, 6761, 11306, 65690, 6779]\n",
      "1000097_1    [6306, 61187, 6788, 17127, 42503, 40521, 21033...\n",
      "1000136_1                  [33540, 62541, 42482, 32627, 20345]\n",
      "1000145_1                  [17764, 27112, 35850, 56651, 47499]\n",
      "100018_1       [5797, 17830, 46854, 22065, 57619, 57658, 2748]\n",
      "1000208_1                    [56872, 60143, 1910, 9278, 51999]\n",
      "Name: city_id, dtype: object\n"
     ]
    }
   ],
   "source": [
    "print(citiesvisited.head(10))"
   ]
  },
  {
   "cell_type": "code",
   "execution_count": 10,
   "metadata": {},
   "outputs": [
    {
     "name": "stdout",
     "output_type": "stream",
     "text": [
      "utrip_id\n",
      "1000027_1    4\n",
      "1000033_1    4\n",
      "1000045_1    7\n",
      "1000083_1    4\n",
      "100008_1     5\n",
      "1000097_1    9\n",
      "1000136_1    5\n",
      "1000145_1    5\n",
      "100018_1     7\n",
      "1000208_1    5\n",
      "Name: city_id, dtype: int64\n"
     ]
    }
   ],
   "source": [
    "# series that holds only total number of cities stopped in for each utrip_id\n",
    "citiespertrip = citiesvisited.apply(lambda x: len(x))\n",
    "print(citiespertrip.head(10))"
   ]
  },
  {
   "cell_type": "code",
   "execution_count": 11,
   "metadata": {},
   "outputs": [
    {
     "name": "stdout",
     "output_type": "stream",
     "text": [
      "39\n"
     ]
    }
   ],
   "source": [
    "# pull out highest number of cities visited\n",
    "mostcitiesvisited = max(citiespertrip)\n",
    "print(mostcitiesvisited)"
   ]
  },
  {
   "cell_type": "code",
   "execution_count": 12,
   "metadata": {},
   "outputs": [],
   "source": [
    "# series that holds what countries were visited per trip\n",
    "countriesvisited = train_data.groupby('utrip_id')['hotel_country'].agg(lambda x: list(set(x)))"
   ]
  },
  {
   "cell_type": "code",
   "execution_count": 13,
   "metadata": {},
   "outputs": [
    {
     "name": "stdout",
     "output_type": "stream",
     "text": [
      "utrip_id\n",
      "1000027_1                            [Gondal]\n",
      "1000033_1                      [Cobra Island]\n",
      "1000045_1    [Carpathia, Fook Island, Gondal]\n",
      "1000083_1                 [Gondal, Osterlich]\n",
      "100008_1                           [Kamistan]\n",
      "1000097_1                       [Fook Island]\n",
      "1000136_1                       [Fook Island]\n",
      "1000145_1              [Rook Islands, Kangan]\n",
      "100018_1         [Urkesh, Bartovia, Leutonia]\n",
      "1000208_1                           [Patusan]\n",
      "Name: hotel_country, dtype: object\n"
     ]
    }
   ],
   "source": [
    "print(countriesvisited.head(10))"
   ]
  },
  {
   "cell_type": "code",
   "execution_count": 14,
   "metadata": {},
   "outputs": [
    {
     "name": "stdout",
     "output_type": "stream",
     "text": [
      "utrip_id\n",
      "1000027_1    1\n",
      "1000033_1    1\n",
      "1000045_1    3\n",
      "1000083_1    2\n",
      "100008_1     1\n",
      "1000097_1    1\n",
      "1000136_1    1\n",
      "1000145_1    2\n",
      "100018_1     3\n",
      "1000208_1    1\n",
      "Name: hotel_country, dtype: int64\n"
     ]
    }
   ],
   "source": [
    "# series that holds total number of countries stopped in for each utrip_id\n",
    "# countriespertrip = train_data.groupby('utrip_id')['hotel_country'].nunique()\n",
    "countriespertrip = countriesvisited.apply(lambda x: len(x))\n",
    "print(countriespertrip.head(10))"
   ]
  },
  {
   "cell_type": "code",
   "execution_count": 15,
   "metadata": {},
   "outputs": [
    {
     "name": "stdout",
     "output_type": "stream",
     "text": [
      "20\n"
     ]
    }
   ],
   "source": [
    "# pull out highest number of countries visited\n",
    "mostcountriesvisited = max(countriespertrip)\n",
    "print(mostcountriesvisited)"
   ]
  },
  {
   "cell_type": "code",
   "execution_count": 16,
   "metadata": {},
   "outputs": [],
   "source": [
    "# create flag that tells us if the trip crossed any country borders\n",
    "internationaltrip = countriespertrip > 1"
   ]
  },
  {
   "cell_type": "code",
   "execution_count": 17,
   "metadata": {},
   "outputs": [],
   "source": [
    "# create rearranged train_data for easier visualization\n",
    "train_data_rearranged = pd.DataFrame(train_data.groupby('utrip_id')['user_id'].apply(lambda x: list(set(x))[0]))\n",
    "train_data_rearranged['citiesvisited'] = citiesvisited\n",
    "train_data_rearranged['citiespertrip'] = citiespertrip\n",
    "train_data_rearranged['countriesvisited'] = countriesvisited\n",
    "train_data_rearranged['countriespertrip'] = countriespertrip\n",
    "train_data_rearranged['internationaltrip'] = internationaltrip\n",
    "train_data_rearranged['lengthofstay'] = lengthofstay"
   ]
  },
  {
   "cell_type": "code",
   "execution_count": 18,
   "metadata": {},
   "outputs": [
    {
     "name": "stdout",
     "output_type": "stream",
     "text": [
      "           user_id                                      citiesvisited  \\\n",
      "utrip_id                                                                \n",
      "1000027_1  1000027                        [15626, 30628, 60902, 8183]   \n",
      "1000033_1  1000033                       [21328, 52089, 27485, 38677]   \n",
      "1000045_1  1000045   [58178, 9608, 31817, 36170, 64876, 55128, 36063]   \n",
      "1000083_1  1000083                       [35160, 14705, 55990, 36063]   \n",
      "100008_1    100008                  [12096, 6761, 11306, 65690, 6779]   \n",
      "1000097_1  1000097  [6306, 61187, 6788, 17127, 42503, 40521, 21033...   \n",
      "1000136_1  1000136                [33540, 62541, 42482, 32627, 20345]   \n",
      "1000145_1  1000145                [17764, 27112, 35850, 56651, 47499]   \n",
      "100018_1    100018    [5797, 17830, 46854, 22065, 57619, 57658, 2748]   \n",
      "1000208_1  1000208                  [56872, 60143, 1910, 9278, 51999]   \n",
      "\n",
      "           citiespertrip                  countriesvisited  countriespertrip  \\\n",
      "utrip_id                                                                       \n",
      "1000027_1              4                          [Gondal]                 1   \n",
      "1000033_1              4                    [Cobra Island]                 1   \n",
      "1000045_1              7  [Carpathia, Fook Island, Gondal]                 3   \n",
      "1000083_1              4               [Gondal, Osterlich]                 2   \n",
      "100008_1               5                        [Kamistan]                 1   \n",
      "1000097_1              9                     [Fook Island]                 1   \n",
      "1000136_1              5                     [Fook Island]                 1   \n",
      "1000145_1              5            [Rook Islands, Kangan]                 2   \n",
      "100018_1               7      [Urkesh, Bartovia, Leutonia]                 3   \n",
      "1000208_1              5                         [Patusan]                 1   \n",
      "\n",
      "           internationaltrip  lengthofstay  \n",
      "utrip_id                                    \n",
      "1000027_1              False             8  \n",
      "1000033_1              False            10  \n",
      "1000045_1               True            11  \n",
      "1000083_1               True             5  \n",
      "100008_1               False             9  \n",
      "1000097_1              False            16  \n",
      "1000136_1              False            15  \n",
      "1000145_1               True            13  \n",
      "100018_1                True            14  \n",
      "1000208_1              False             5  \n"
     ]
    }
   ],
   "source": [
    "print(train_data_rearranged.head(10))"
   ]
  },
  {
   "cell_type": "code",
   "execution_count": 19,
   "metadata": {},
   "outputs": [],
   "source": [
    "# create table that holds hotel_country as key and contains all city_ids of cities inside hotel_country\n",
    "citiesgroupedbycountry = train_data.groupby('hotel_country')['city_id'].agg(lambda x: list(set(x)))"
   ]
  },
  {
   "cell_type": "code",
   "execution_count": 20,
   "metadata": {},
   "outputs": [
    {
     "name": "stdout",
     "output_type": "stream",
     "text": [
      "hotel_country\n",
      "Absurdistan                       [33031, 52136, 42121, 40587, 62316, 60971, 170...\n",
      "Aldorria                          [20610, 64131, 48136, 12169, 55059, 10134, 581...\n",
      "Aldovia                           [56833, 11780, 30219, 54797, 40978, 35346, 256...\n",
      "Almaigne                                                                    [41220]\n",
      "Altis and Stratis, Republic of    [51329, 54918, 59398, 26376, 53767, 15242, 242...\n",
      "Alvonia                           [32768, 24582, 32774, 8200, 28683, 59403, 1435...\n",
      "Angrezi Raj                                                                 [64583]\n",
      "Aslerfan                          [25608, 2570, 51214, 62479, 46097, 37397, 6556...\n",
      "Atlantis                          [35328, 64002, 66053, 44555, 3596, 5646, 62993...\n",
      "Axphain                           [24576, 53249, 10246, 20486, 65544, 26637, 206...\n",
      "Name: city_id, dtype: object\n"
     ]
    }
   ],
   "source": [
    "print(citiesgroupedbycountry.head(10))"
   ]
  },
  {
   "cell_type": "code",
   "execution_count": 21,
   "metadata": {},
   "outputs": [],
   "source": [
    "# create table that holds hotel_country and contains all city_ids of cities inside hotel_country, ranked by number of trips there\n",
    "citiesrankedbycountry = train_data.groupby('hotel_country')['city_id'].value_counts()"
   ]
  },
  {
   "cell_type": "code",
   "execution_count": 22,
   "metadata": {},
   "outputs": [
    {
     "name": "stdout",
     "output_type": "stream",
     "text": [
      "hotel_country  city_id\n",
      "Absurdistan    52136      52\n",
      "               62316       7\n",
      "               5780        3\n",
      "               17070       3\n",
      "               47440       2\n",
      "               5183        1\n",
      "               27902       1\n",
      "               33031       1\n",
      "               40587       1\n",
      "               42121       1\n",
      "               51505       1\n",
      "               60971       1\n",
      "Aldorria       17907      49\n",
      "               17638      47\n",
      "               58136      35\n",
      "               41035      32\n",
      "               13692      26\n",
      "               20862      23\n",
      "               35943      19\n",
      "               7969       18\n",
      "               64131      18\n",
      "               34751      14\n",
      "               20543      13\n",
      "               48136      13\n",
      "               15408      12\n",
      "               45760      12\n",
      "               17695      11\n",
      "               55059      11\n",
      "               54840       8\n",
      "               10134       5\n",
      "               38065       5\n",
      "               43084       5\n",
      "               56795       4\n",
      "               8060        3\n",
      "               30285       3\n",
      "               38815       3\n",
      "               14774       2\n",
      "               18652       2\n",
      "               20610       2\n",
      "               28447       2\n",
      "               41057       2\n",
      "               5623        1\n",
      "               9918        1\n",
      "               12169       1\n",
      "               14056       1\n",
      "               21304       1\n",
      "               22753       1\n",
      "               35799       1\n",
      "               52579       1\n",
      "               54832       1\n",
      "Name: city_id, dtype: int64\n"
     ]
    }
   ],
   "source": [
    "print(citiesrankedbycountry.head(50))"
   ]
  },
  {
   "cell_type": "code",
   "execution_count": 23,
   "metadata": {},
   "outputs": [],
   "source": [
    "# create table that holds number of visits to hotel_country\n",
    "numberofvisitstocountry = train_data['hotel_country'].value_counts()"
   ]
  },
  {
   "cell_type": "code",
   "execution_count": 24,
   "metadata": {},
   "outputs": [
    {
     "name": "stdout",
     "output_type": "stream",
     "text": [
      "Cobra Island              137791\n",
      "Fook Island               117717\n",
      "Gondal                    104979\n",
      "Glubbdubdrib               74840\n",
      "Elbonia                    53965\n",
      "Borginia                   45629\n",
      "Kangan                     44876\n",
      "Bozatta                    40599\n",
      "Alvonia                    34446\n",
      "Holy Britannian Empire     30040\n",
      "Name: hotel_country, dtype: int64\n"
     ]
    }
   ],
   "source": [
    "print(numberofvisitstocountry.head(10))"
   ]
  },
  {
   "cell_type": "code",
   "execution_count": 25,
   "metadata": {},
   "outputs": [
    {
     "data": {
      "text/plain": [
       "city_id\n",
       "36063    9559\n",
       "58178    2454\n",
       "37689    1371\n",
       "1034     1274\n",
       "30768    1271\n",
       "         ... \n",
       "67344       1\n",
       "67392       1\n",
       "67506       1\n",
       "67518       1\n",
       "67551       1\n",
       "Name: city_id, Length: 6440, dtype: int64"
      ]
     },
     "execution_count": 25,
     "metadata": {},
     "output_type": "execute_result"
    }
   ],
   "source": [
    "citiesrankedbycountry['Gondal']"
   ]
  },
  {
   "cell_type": "code",
   "execution_count": 26,
   "metadata": {},
   "outputs": [
    {
     "data": {
      "text/plain": [
       "200153"
      ]
     },
     "execution_count": 26,
     "metadata": {},
     "output_type": "execute_result"
    }
   ],
   "source": [
    "len(train_data['user_id'].unique())"
   ]
  },
  {
   "cell_type": "code",
   "execution_count": 27,
   "metadata": {},
   "outputs": [
    {
     "data": {
      "text/plain": [
       "3254"
      ]
     },
     "execution_count": 27,
     "metadata": {},
     "output_type": "execute_result"
    }
   ],
   "source": [
    "len(train_data['affiliate_id'].unique())"
   ]
  },
  {
   "cell_type": "code",
   "execution_count": 28,
   "metadata": {},
   "outputs": [
    {
     "data": {
      "text/plain": [
       "array(['desktop', 'mobile', 'tablet'], dtype=object)"
      ]
     },
     "execution_count": 28,
     "metadata": {},
     "output_type": "execute_result"
    }
   ],
   "source": [
    "train_data['device_class'].unique()"
   ]
  },
  {
   "cell_type": "code",
   "execution_count": 29,
   "metadata": {},
   "outputs": [
    {
     "data": {
      "text/plain": [
       "array(['Gondal', 'The Devilfire Empire', 'Elbonia', 'Tcherkistan',\n",
       "       'Bartovia'], dtype=object)"
      ]
     },
     "execution_count": 29,
     "metadata": {},
     "output_type": "execute_result"
    }
   ],
   "source": [
    "train_data['booker_country'].unique()"
   ]
  },
  {
   "cell_type": "code",
   "execution_count": 30,
   "metadata": {},
   "outputs": [],
   "source": [
    "# series that holds a list of cities visited on each trip\n",
    "orderofcitiesvisitedpertrip = train_data.groupby('utrip_id')['city_id'].agg(lambda x: list(x))"
   ]
  },
  {
   "cell_type": "code",
   "execution_count": 31,
   "metadata": {},
   "outputs": [
    {
     "data": {
      "text/plain": [
       "utrip_id\n",
       "1000027_1                          [8183, 15626, 60902, 30628]\n",
       "1000033_1                  [38677, 52089, 21328, 27485, 38677]\n",
       "1000045_1     [64876, 55128, 9608, 31817, 36170, 58178, 36063]\n",
       "1000083_1                         [55990, 14705, 35160, 36063]\n",
       "100008_1                     [11306, 12096, 6761, 6779, 65690]\n",
       "1000097_1    [17127, 31088, 40521, 55128, 21033, 6306, 6788...\n",
       "1000136_1                  [62541, 42482, 20345, 33540, 32627]\n",
       "1000145_1                  [47499, 27112, 17764, 56651, 35850]\n",
       "100018_1       [17830, 57619, 22065, 2748, 46854, 5797, 57658]\n",
       "1000208_1                    [60143, 1910, 9278, 51999, 56872]\n",
       "Name: city_id, dtype: object"
      ]
     },
     "execution_count": 31,
     "metadata": {},
     "output_type": "execute_result"
    }
   ],
   "source": [
    "orderofcitiesvisitedpertrip.head(10)"
   ]
  },
  {
   "cell_type": "code",
   "execution_count": 32,
   "metadata": {},
   "outputs": [
    {
     "data": {
      "text/plain": [
       "39901"
      ]
     },
     "execution_count": 32,
     "metadata": {},
     "output_type": "execute_result"
    }
   ],
   "source": [
    "len(train_data['city_id'].unique())"
   ]
  },
  {
   "cell_type": "code",
   "execution_count": 33,
   "metadata": {},
   "outputs": [],
   "source": [
    "lastcityoftripdf = orderofcitiesvisitedpertrip.apply(lambda x: x[-1])"
   ]
  },
  {
   "cell_type": "code",
   "execution_count": 39,
   "metadata": {},
   "outputs": [
    {
     "data": {
      "text/plain": [
       "[('1000027_1', 30628),\n",
       " ('1000033_1', 38677),\n",
       " ('1000045_1', 36063),\n",
       " ('1000083_1', 36063),\n",
       " ('100008_1', 65690),\n",
       " ('1000097_1', 42503),\n",
       " ('1000136_1', 32627),\n",
       " ('1000145_1', 35850),\n",
       " ('100018_1', 57658),\n",
       " ('1000208_1', 56872)]"
      ]
     },
     "execution_count": 39,
     "metadata": {},
     "output_type": "execute_result"
    }
   ],
   "source": [
    "trip_ids = orderofcitiesvisitedpertrip.index.tolist()\n",
    "lastcityoftrip = lastcityoftripdf.tolist()\n",
    "target_Y = list(zip(trip_ids, lastcityoftrip))\n",
    "target_Y[:10]"
   ]
  },
  {
   "cell_type": "code",
   "execution_count": 35,
   "metadata": {},
   "outputs": [],
   "source": [
    "# should not use for loop here, it's wildly inefficient\n",
    "# try to use groupby and drop last row\n",
    "X_train = train_data.drop(train_data.groupby('utrip_id').tail(1).index, axis=0)    "
   ]
  },
  {
   "cell_type": "code",
   "execution_count": 36,
   "metadata": {},
   "outputs": [
    {
     "data": {
      "text/html": [
       "<div>\n",
       "<style scoped>\n",
       "    .dataframe tbody tr th:only-of-type {\n",
       "        vertical-align: middle;\n",
       "    }\n",
       "\n",
       "    .dataframe tbody tr th {\n",
       "        vertical-align: top;\n",
       "    }\n",
       "\n",
       "    .dataframe thead th {\n",
       "        text-align: right;\n",
       "    }\n",
       "</style>\n",
       "<table border=\"1\" class=\"dataframe\">\n",
       "  <thead>\n",
       "    <tr style=\"text-align: right;\">\n",
       "      <th></th>\n",
       "      <th>Unnamed: 0</th>\n",
       "      <th>user_id</th>\n",
       "      <th>checkin</th>\n",
       "      <th>checkout</th>\n",
       "      <th>city_id</th>\n",
       "      <th>device_class</th>\n",
       "      <th>affiliate_id</th>\n",
       "      <th>booker_country</th>\n",
       "      <th>hotel_country</th>\n",
       "      <th>utrip_id</th>\n",
       "      <th>lengthofleg</th>\n",
       "    </tr>\n",
       "  </thead>\n",
       "  <tbody>\n",
       "    <tr>\n",
       "      <th>0</th>\n",
       "      <td>0</td>\n",
       "      <td>1006220</td>\n",
       "      <td>2016-04-09</td>\n",
       "      <td>2016-04-11</td>\n",
       "      <td>31114</td>\n",
       "      <td>desktop</td>\n",
       "      <td>384</td>\n",
       "      <td>Gondal</td>\n",
       "      <td>Gondal</td>\n",
       "      <td>1006220_1</td>\n",
       "      <td>2</td>\n",
       "    </tr>\n",
       "    <tr>\n",
       "      <th>1</th>\n",
       "      <td>1</td>\n",
       "      <td>1006220</td>\n",
       "      <td>2016-04-11</td>\n",
       "      <td>2016-04-12</td>\n",
       "      <td>39641</td>\n",
       "      <td>desktop</td>\n",
       "      <td>384</td>\n",
       "      <td>Gondal</td>\n",
       "      <td>Gondal</td>\n",
       "      <td>1006220_1</td>\n",
       "      <td>1</td>\n",
       "    </tr>\n",
       "    <tr>\n",
       "      <th>2</th>\n",
       "      <td>2</td>\n",
       "      <td>1006220</td>\n",
       "      <td>2016-04-12</td>\n",
       "      <td>2016-04-16</td>\n",
       "      <td>20232</td>\n",
       "      <td>desktop</td>\n",
       "      <td>384</td>\n",
       "      <td>Gondal</td>\n",
       "      <td>Glubbdubdrib</td>\n",
       "      <td>1006220_1</td>\n",
       "      <td>4</td>\n",
       "    </tr>\n",
       "    <tr>\n",
       "      <th>4</th>\n",
       "      <td>4</td>\n",
       "      <td>1010293</td>\n",
       "      <td>2016-07-09</td>\n",
       "      <td>2016-07-10</td>\n",
       "      <td>5325</td>\n",
       "      <td>mobile</td>\n",
       "      <td>359</td>\n",
       "      <td>The Devilfire Empire</td>\n",
       "      <td>Cobra Island</td>\n",
       "      <td>1010293_1</td>\n",
       "      <td>1</td>\n",
       "    </tr>\n",
       "    <tr>\n",
       "      <th>5</th>\n",
       "      <td>5</td>\n",
       "      <td>1010293</td>\n",
       "      <td>2016-07-10</td>\n",
       "      <td>2016-07-11</td>\n",
       "      <td>55</td>\n",
       "      <td>mobile</td>\n",
       "      <td>359</td>\n",
       "      <td>The Devilfire Empire</td>\n",
       "      <td>Cobra Island</td>\n",
       "      <td>1010293_1</td>\n",
       "      <td>1</td>\n",
       "    </tr>\n",
       "    <tr>\n",
       "      <th>...</th>\n",
       "      <td>...</td>\n",
       "      <td>...</td>\n",
       "      <td>...</td>\n",
       "      <td>...</td>\n",
       "      <td>...</td>\n",
       "      <td>...</td>\n",
       "      <td>...</td>\n",
       "      <td>...</td>\n",
       "      <td>...</td>\n",
       "      <td>...</td>\n",
       "      <td>...</td>\n",
       "    </tr>\n",
       "    <tr>\n",
       "      <th>1166828</th>\n",
       "      <td>1166828</td>\n",
       "      <td>999261</td>\n",
       "      <td>2016-09-07</td>\n",
       "      <td>2016-09-10</td>\n",
       "      <td>6306</td>\n",
       "      <td>desktop</td>\n",
       "      <td>10332</td>\n",
       "      <td>Gondal</td>\n",
       "      <td>Fook Island</td>\n",
       "      <td>999261_1</td>\n",
       "      <td>3</td>\n",
       "    </tr>\n",
       "    <tr>\n",
       "      <th>1166829</th>\n",
       "      <td>1166829</td>\n",
       "      <td>999261</td>\n",
       "      <td>2016-09-10</td>\n",
       "      <td>2016-09-13</td>\n",
       "      <td>44024</td>\n",
       "      <td>desktop</td>\n",
       "      <td>2526</td>\n",
       "      <td>Gondal</td>\n",
       "      <td>Fook Island</td>\n",
       "      <td>999261_1</td>\n",
       "      <td>3</td>\n",
       "    </tr>\n",
       "    <tr>\n",
       "      <th>1166831</th>\n",
       "      <td>1166831</td>\n",
       "      <td>999755</td>\n",
       "      <td>2016-12-13</td>\n",
       "      <td>2016-12-16</td>\n",
       "      <td>4476</td>\n",
       "      <td>desktop</td>\n",
       "      <td>2661</td>\n",
       "      <td>The Devilfire Empire</td>\n",
       "      <td>Gondal</td>\n",
       "      <td>999755_1</td>\n",
       "      <td>3</td>\n",
       "    </tr>\n",
       "    <tr>\n",
       "      <th>1166832</th>\n",
       "      <td>1166832</td>\n",
       "      <td>999755</td>\n",
       "      <td>2016-12-16</td>\n",
       "      <td>2016-12-17</td>\n",
       "      <td>1034</td>\n",
       "      <td>desktop</td>\n",
       "      <td>7974</td>\n",
       "      <td>The Devilfire Empire</td>\n",
       "      <td>Gondal</td>\n",
       "      <td>999755_1</td>\n",
       "      <td>1</td>\n",
       "    </tr>\n",
       "    <tr>\n",
       "      <th>1166833</th>\n",
       "      <td>1166833</td>\n",
       "      <td>999755</td>\n",
       "      <td>2016-12-22</td>\n",
       "      <td>2016-12-25</td>\n",
       "      <td>64876</td>\n",
       "      <td>desktop</td>\n",
       "      <td>7974</td>\n",
       "      <td>The Devilfire Empire</td>\n",
       "      <td>Fook Island</td>\n",
       "      <td>999755_1</td>\n",
       "      <td>3</td>\n",
       "    </tr>\n",
       "  </tbody>\n",
       "</table>\n",
       "<p>949149 rows × 11 columns</p>\n",
       "</div>"
      ],
      "text/plain": [
       "         Unnamed: 0  user_id    checkin   checkout  city_id device_class  \\\n",
       "0                 0  1006220 2016-04-09 2016-04-11    31114      desktop   \n",
       "1                 1  1006220 2016-04-11 2016-04-12    39641      desktop   \n",
       "2                 2  1006220 2016-04-12 2016-04-16    20232      desktop   \n",
       "4                 4  1010293 2016-07-09 2016-07-10     5325       mobile   \n",
       "5                 5  1010293 2016-07-10 2016-07-11       55       mobile   \n",
       "...             ...      ...        ...        ...      ...          ...   \n",
       "1166828     1166828   999261 2016-09-07 2016-09-10     6306      desktop   \n",
       "1166829     1166829   999261 2016-09-10 2016-09-13    44024      desktop   \n",
       "1166831     1166831   999755 2016-12-13 2016-12-16     4476      desktop   \n",
       "1166832     1166832   999755 2016-12-16 2016-12-17     1034      desktop   \n",
       "1166833     1166833   999755 2016-12-22 2016-12-25    64876      desktop   \n",
       "\n",
       "         affiliate_id        booker_country hotel_country   utrip_id  \\\n",
       "0                 384                Gondal        Gondal  1006220_1   \n",
       "1                 384                Gondal        Gondal  1006220_1   \n",
       "2                 384                Gondal  Glubbdubdrib  1006220_1   \n",
       "4                 359  The Devilfire Empire  Cobra Island  1010293_1   \n",
       "5                 359  The Devilfire Empire  Cobra Island  1010293_1   \n",
       "...               ...                   ...           ...        ...   \n",
       "1166828         10332                Gondal   Fook Island   999261_1   \n",
       "1166829          2526                Gondal   Fook Island   999261_1   \n",
       "1166831          2661  The Devilfire Empire        Gondal   999755_1   \n",
       "1166832          7974  The Devilfire Empire        Gondal   999755_1   \n",
       "1166833          7974  The Devilfire Empire   Fook Island   999755_1   \n",
       "\n",
       "         lengthofleg  \n",
       "0                  2  \n",
       "1                  1  \n",
       "2                  4  \n",
       "4                  1  \n",
       "5                  1  \n",
       "...              ...  \n",
       "1166828            3  \n",
       "1166829            3  \n",
       "1166831            3  \n",
       "1166832            1  \n",
       "1166833            3  \n",
       "\n",
       "[949149 rows x 11 columns]"
      ]
     },
     "execution_count": 36,
     "metadata": {},
     "output_type": "execute_result"
    }
   ],
   "source": [
    "X_train"
   ]
  },
  {
   "cell_type": "code",
   "execution_count": null,
   "metadata": {},
   "outputs": [],
   "source": []
  },
  {
   "cell_type": "code",
   "execution_count": null,
   "metadata": {},
   "outputs": [],
   "source": []
  },
  {
   "cell_type": "code",
   "execution_count": null,
   "metadata": {},
   "outputs": [],
   "source": []
  }
 ],
 "metadata": {
  "kernelspec": {
   "display_name": "Python 3",
   "language": "python",
   "name": "python3"
  },
  "language_info": {
   "codemirror_mode": {
    "name": "ipython",
    "version": 3
   },
   "file_extension": ".py",
   "mimetype": "text/x-python",
   "name": "python",
   "nbconvert_exporter": "python",
   "pygments_lexer": "ipython3",
   "version": "3.8.5"
  }
 },
 "nbformat": 4,
 "nbformat_minor": 4
}
